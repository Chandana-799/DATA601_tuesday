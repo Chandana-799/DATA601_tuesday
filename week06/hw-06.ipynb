{
 "cells": [
  {
   "cell_type": "markdown",
   "metadata": {},
   "source": [
    "# Homework 6\n",
    "\n",
    "\n",
    "This homework is designed to process a large csv file (bigger than pandas can handle)\n",
    "https://github.com/msaricaumbc/DS_data/blob/master/bigfile.csv.zip?raw=true\n",
    "\n",
    "Write code to perform/answer the following actions:\n",
    "\n",
    "1. Print how many records processed\n",
    "1. Create a histogram of ages\n",
    "1. List the top 20 occupations \n",
    "\n",
    "Don't use Pandas or Dask"
   ]
  },
  {
   "cell_type": "code",
   "execution_count": 2,
   "metadata": {},
   "outputs": [],
   "source": [
    "from urllib import request\n",
    "\n",
    "def download_file(file_name, url):\n",
    "    res = request.urlopen(url)\n",
    "    with open(file_name,'wb') as file:\n",
    "        file.write(res.read())\n",
    "        \n",
    "file_url = 'https://github.com/msaricaumbc/DS_data/blob/master/bigfile.csv.zip?raw=true'\n",
    "file_name = 'bigfile.zip'"
   ]
  },
  {
   "cell_type": "code",
   "execution_count": 3,
   "metadata": {},
   "outputs": [],
   "source": [
    "download_file(file_name,file_url)"
   ]
  },
  {
   "cell_type": "code",
   "execution_count": 4,
   "metadata": {},
   "outputs": [
    {
     "name": "stdout",
     "output_type": "stream",
     "text": [
      "File Name                                             Modified             Size\n",
      "bigfile.csv                                    2022-03-07 20:08:48  18034182194\n",
      "Extracting all the files now...\n",
      "Done!\n"
     ]
    }
   ],
   "source": [
    "from zipfile import ZipFile\n",
    "def unzip(file_name, path='./'):\n",
    "    with ZipFile(file_name, 'r') as zip:\n",
    "        zip.printdir()\n",
    "        print('Extracting all the files now...') \n",
    "        zip.extractall(path = path) \n",
    "        print('Done!') \n",
    "unzip(file_name)"
   ]
  },
  {
   "cell_type": "code",
   "execution_count": 5,
   "metadata": {},
   "outputs": [
    {
     "name": "stdout",
     "output_type": "stream",
     "text": [
      "The total number of records processed are: 600000\n"
     ]
    }
   ],
   "source": [
    "rowcount=0\n",
    "for row in open(\"bigfile.csv\"):\n",
    "    rowcount+= 1\n",
    "print('The total number of records processed are:',rowcount)"
   ]
  },
  {
   "cell_type": "code",
   "execution_count": 6,
   "metadata": {},
   "outputs": [],
   "source": [
    "import csv\n",
    "age=[]\n",
    "occupation=[]\n",
    "with open('bigfile.csv', 'r') as file:\n",
    "    while(True):\n",
    "        line = file.readline()#Reading line by line from CSV file\n",
    "        if not line:\n",
    "            break\n",
    "        line2 = line.split(',')\n",
    "        age.append(int(line2[3]))#appending the ages of the people to another list\n",
    "        occupation.append(line2[4])#appending all the occupations to another list\n",
    "file.close()"
   ]
  },
  {
   "cell_type": "code",
   "execution_count": 7,
   "metadata": {},
   "outputs": [],
   "source": [
    "import csv\n",
    "age=[]\n",
    "occupation=[]\n",
    "with open('bigfile.csv', 'r') as file:\n",
    "    while(True):\n",
    "        line = file.readline()#Reading line by line from CSV file\n",
    "        if not line:\n",
    "            break\n",
    "        line2 = line.split(',')\n",
    "        age.append(int(line2[3]))#appending the ages of the people to another list\n",
    "        occupation.append(line2[4])#appending all the occupations to another list\n",
    "file.close()"
   ]
  },
  {
   "cell_type": "code",
   "execution_count": 9,
   "metadata": {},
   "outputs": [
    {
     "data": {
      "image/png": "[encoded data removed]",
      "text/plain": [
       "<Figure size 720x576 with 1 Axes>"
      ]
     },
     "metadata": {
      "needs_background": "light"
     },
     "output_type": "display_data"
    }
   ],
   "source": [
    "#2.Create a histogram of ages\n",
    "\n",
    "from matplotlib import pyplot as plt\n",
    "plt.figure(figsize=(10,8))\n",
    "plt.title(\"Histogram PLOT FOR AGES\")\n",
    "plt.xlabel(\"AGE\")\n",
    "plt.ylabel(\"Number of people\")\n",
    "plt.hist(age,edgecolor='black',color='green')\n",
    "plt.show()"
   ]
  },
  {
   "cell_type": "code",
   "execution_count": 10,
   "metadata": {},
   "outputs": [
    {
     "name": "stdout",
     "output_type": "stream",
     "text": [
      "Scientist- product/process development\n",
      "Psychiatric nurse\n",
      "Therapist- sports\n",
      "Toxicologist\n",
      "Social researcher\n",
      "Environmental health practitioner\n",
      "Naval architect\n",
      "Teacher- primary school\n",
      "Administrator- charities/voluntary organisations\n",
      "Chartered loss adjuster\n",
      "Photographer\n",
      "Field trials officer\n",
      "Radio producer\n",
      "Ranger/warden\n",
      "Electrical engineer\n",
      "Radiographer- diagnostic\n",
      "Acupuncturist\n",
      "Administrator- education\n",
      "Quantity surveyor\n",
      "Research scientist (medical)\n",
      "Biomedical engineer\n"
     ]
    }
   ],
   "source": [
    "#Top 20 occupations from the file\n",
    "from collections import Counter\n",
    "result = [item for items, c in Counter(occupation).most_common() for item in [items]]\n",
    "for i in range(0,21):\n",
    "    print(result[i])"
   ]
  },
  {
   "cell_type": "code",
   "execution_count": null,
   "metadata": {},
   "outputs": [],
   "source": []
  }
 ],
 "metadata": {
  "kernelspec": {
   "display_name": "Python 3",
   "language": "python",
   "name": "python3"
  },
  "toc": {
   "base_numbering": 1,
   "nav_menu": {},
   "number_sections": true,
   "sideBar": true,
   "skip_h1_title": false,
   "title_cell": "Table of Contents",
   "title_sidebar": "Contents",
   "toc_cell": false,
   "toc_position": {},
   "toc_section_display": true,
   "toc_window_display": false
  },
  "varInspector": {
   "cols": {
    "lenName": 16,
    "lenType": 16,
    "lenVar": 40
   },
   "kernels_config": {
    "python": {
     "delete_cmd_postfix": "",
     "delete_cmd_prefix": "del ",
     "library": "var_list.py",
     "varRefreshCmd": "print(var_dic_list())"
    },
    "r": {
     "delete_cmd_postfix": ") ",
     "delete_cmd_prefix": "rm(",
     "library": "var_list.r",
     "varRefreshCmd": "cat(var_dic_list()) "
    }
   },
   "types_to_exclude": [
    "module",
    "function",
    "builtin_function_or_method",
    "instance",
    "_Feature"
   ],
   "window_display": false
  }
 },
 "nbformat": 4,
 "nbformat_minor": 2
}
