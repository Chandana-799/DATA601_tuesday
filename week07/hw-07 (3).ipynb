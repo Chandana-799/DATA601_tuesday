{
 "cells": [
  {
   "cell_type": "markdown",
   "metadata": {},
   "source": [
    "# Homework 7\n"
   ]
  },
  {
   "cell_type": "markdown",
   "metadata": {},
   "source": [
    "You are waiting on some datasets from different teams but the approval process may take some time. \n",
    "\n",
    "You have no intention to wait! You will generate some fake data to get started. \n",
    "\n",
    "Here are some info you expect from the management:\n",
    "* Employees dataset contains employee id, name, lastname, phone, state (~ 10K records) (Use states of US east coast only) \n",
    "* Salary dataset contains employee id, department id, yearly salary\n",
    "* Department dataset contains department id, department name (5-10 departments) \n",
    "\n",
    "Here are the questions expected to be answered:\n",
    "\n",
    "1. Visualize the average salary of each department\n",
    "1. Visualize the total number of employees living in each state for each department\n",
    "1. Visualize salary distribution of different states\n",
    "1. Visualize salary distribution of different departments\n",
    "\n",
    "You can use faker library (but you don't have to): https://faker.readthedocs.io/en/master/\n",
    "\n",
    "`Optional:` \n",
    "\n",
    "Try to make dataframes realistic. \n",
    "* Salary distribution as normal distribution\n",
    "* Salary of different states can be higher for 5-10K compared to other states\n"
   ]
  },
  {
   "cell_type": "code",
   "execution_count": 1,
   "metadata": {},
   "outputs": [],
   "source": [
    "import numpy as np\n",
    "import pandas as pd\n",
    "import matplotlib.pyplot as plt\n",
    "import seaborn as sns"
   ]
  },
  {
   "cell_type": "markdown",
   "metadata": {},
   "source": [
    "# Creating a Fake Dataset"
   ]
  },
  {
   "cell_type": "markdown",
   "metadata": {},
   "source": [
    "## Employee Dataset "
   ]
  },
  {
   "cell_type": "code",
   "execution_count": 2,
   "metadata": {},
   "outputs": [
    {
     "name": "stdout",
     "output_type": "stream",
     "text": [
      "15\n",
      "Length: 10000\n",
      "{'North Carolina', 'New York', 'Maryland', 'Pennsylvania', 'Delaware', 'Georgia', 'Rhode Island', 'Florida', 'New Hampshire', 'Maine', 'Virginia', 'Connecticut', 'South Carolina', 'New Jersy', 'Massachusetts'}\n",
      "15\n"
     ]
    }
   ],
   "source": [
    "import random\n",
    "from random import choices \n",
    "\n",
    "State_list=['Connecticut','Delaware','Florida','Georgia','Maine','Maryland','Massachusetts','New Hampshire','New Jersy','New York','North Carolina','Pennsylvania','Rhode Island','South Carolina','Virginia']\n",
    "print(len(State_list))\n",
    "\n",
    "States = choices(State_list, k=10000)\n",
    "print('Length:', len(States))\n",
    "print(set(States))\n",
    "print(len(set(States)))\n"
   ]
  },
  {
   "cell_type": "code",
   "execution_count": 3,
   "metadata": {},
   "outputs": [
    {
     "name": "stdout",
     "output_type": "stream",
     "text": [
      "Connecticut 649\n",
      "Delaware 681\n",
      "Florida 709\n",
      "Georgia 704\n",
      "Maine 641\n",
      "Maryland 671\n",
      "Massachusetts 668\n",
      "New Hampshire 675\n",
      "New Jersy 675\n",
      "New York 651\n",
      "North Carolina 680\n",
      "Pennsylvania 665\n",
      "Rhode Island 644\n",
      "South Carolina 615\n",
      "Virginia 672\n"
     ]
    }
   ],
   "source": [
    "for e in State_list:\n",
    "    print(e,States.count(e))\n",
    "    "
   ]
  },
  {
   "cell_type": "code",
   "execution_count": 4,
   "metadata": {},
   "outputs": [
    {
     "name": "stdout",
     "output_type": "stream",
     "text": [
      "10000\n"
     ]
    },
    {
     "data": {
      "text/plain": [
       "[98793, 51424, 38581, 41652, 19642]"
      ]
     },
     "execution_count": 4,
     "metadata": {},
     "output_type": "execute_result"
    }
   ],
   "source": [
    "## employee id\n",
    "\n",
    "empid = random.sample(range(10001,99999),10000)\n",
    "empid\n",
    "print(len(set(empid)))\n",
    "empid[:5]"
   ]
  },
  {
   "cell_type": "code",
   "execution_count": 5,
   "metadata": {},
   "outputs": [
    {
     "name": "stdout",
     "output_type": "stream",
     "text": [
      "10000\n"
     ]
    },
    {
     "data": {
      "text/plain": [
       "[20841109, 72443763, 87250175, 93559715, 43544819]"
      ]
     },
     "execution_count": 5,
     "metadata": {},
     "output_type": "execute_result"
    }
   ],
   "source": [
    "## phone \n",
    "\n",
    "phone = random.sample(range(10000001,99999999),10000)\n",
    "phone\n",
    "print(len(set(phone)))\n",
    "phone[:5]"
   ]
  },
  {
   "cell_type": "code",
   "execution_count": 6,
   "metadata": {},
   "outputs": [
    {
     "name": "stdout",
     "output_type": "stream",
     "text": [
      "Requirement already satisfied: Faker in c:\\users\\chand\\anaconda3\\lib\\site-packages (13.3.4)\n",
      "Requirement already satisfied: python-dateutil>=2.4 in c:\\users\\chand\\anaconda3\\lib\\site-packages (from Faker) (2.8.1)\n",
      "Requirement already satisfied: six>=1.5 in c:\\users\\chand\\anaconda3\\lib\\site-packages (from python-dateutil>=2.4->Faker) (1.15.0)\n"
     ]
    }
   ],
   "source": [
    "!pip install Faker \n"
   ]
  },
  {
   "cell_type": "code",
   "execution_count": 7,
   "metadata": {},
   "outputs": [
    {
     "name": "stdout",
     "output_type": "stream",
     "text": [
      "6824\n",
      "['Calhoun', 'Versie', 'Lavonne', 'Dontae', 'Mathias']\n",
      "3176\n",
      "['Barney', 'Dorthy', 'Toney', 'Rosalind', 'Garnet']\n"
     ]
    }
   ],
   "source": [
    "#Firstname of the Employee  \n",
    "\n",
    "from faker.providers.person.en import Provider\n",
    "fstnames = list(set(Provider.first_names))\n",
    "random.seed(44)\n",
    "random.shuffle(fstnames)\n",
    "print(len(fstnames))\n",
    "print(fstnames[:5])\n",
    "fstnames_2 = list(set(Provider.first_names))[:10000-6824]\n",
    "random.seed(42)\n",
    "random.shuffle(fstnames_2)\n",
    "print(len(fstnames_2))\n",
    "print(fstnames_2[:5])"
   ]
  },
  {
   "cell_type": "code",
   "execution_count": 8,
   "metadata": {},
   "outputs": [
    {
     "name": "stdout",
     "output_type": "stream",
     "text": [
      "10000\n",
      "['Roosevelt', 'Christa', 'Marrion', 'Donato', 'Vernie']\n"
     ]
    }
   ],
   "source": [
    "fstnames.extend(fstnames_2)\n",
    "random.shuffle(fstnames)\n",
    "\n",
    "print(len(fstnames))\n",
    "print(fstnames[:5])"
   ]
  },
  {
   "cell_type": "code",
   "execution_count": 9,
   "metadata": {},
   "outputs": [
    {
     "name": "stdout",
     "output_type": "stream",
     "text": [
      "473\n",
      "['Roosevelt', 'Christa', 'Marrion', 'Donato', 'Vernie']\n",
      "10000\n"
     ]
    },
    {
     "data": {
      "text/plain": [
       "['Tromp', \"D'Amore\", 'Halvorson', 'Berge', 'Torp']"
      ]
     },
     "execution_count": 9,
     "metadata": {},
     "output_type": "execute_result"
    }
   ],
   "source": [
    "# lastname\n",
    "\n",
    "from faker.providers.person.en import Provider\n",
    "\n",
    "lstnames_list = list(Provider.last_names)\n",
    "\n",
    "random.seed(44)\n",
    "random.shuffle(lstnames_list)\n",
    "\n",
    "print(len(lstnames_list))\n",
    "print(fstnames[:5])\n",
    "\n",
    "lstnames = lstnames_list*30\n",
    "lstnames = lstnames[:10000]\n",
    "random.shuffle(lstnames)\n",
    "print(len(lstnames))\n",
    "lstnames[:5]"
   ]
  },
  {
   "cell_type": "code",
   "execution_count": 10,
   "metadata": {},
   "outputs": [
    {
     "data": {
      "text/plain": [
       "'fstnames.extend(fstnames_2)\\nrandom.shuffle(fstnames)\\n\\nprint(len(fstnames))\\nprint(fstnames[:5])'"
      ]
     },
     "execution_count": 10,
     "metadata": {},
     "output_type": "execute_result"
    }
   ],
   "source": [
    "'''fstnames.extend(fstnames_2)\n",
    "random.shuffle(fstnames)\n",
    "\n",
    "print(len(fstnames))\n",
    "print(fstnames[:5])'''"
   ]
  },
  {
   "cell_type": "code",
   "execution_count": 11,
   "metadata": {},
   "outputs": [
    {
     "name": "stdout",
     "output_type": "stream",
     "text": [
      "length: 10000 unique: 10000\n",
      "length: 10000 unique: 6824\n",
      "length: 10000 unique: 473\n",
      "length: 10000 unique: 10000\n",
      "length: 10000 unique: 15\n"
     ]
    }
   ],
   "source": [
    "for e in [empid, fstnames, lstnames, phone, States]:\n",
    "    print('length:', len(e), 'unique:', len(set(e)))"
   ]
  },
  {
   "cell_type": "code",
   "execution_count": 12,
   "metadata": {},
   "outputs": [
    {
     "data": {
      "text/html": [
       "<div>\n",
       "<style scoped>\n",
       "    .dataframe tbody tr th:only-of-type {\n",
       "        vertical-align: middle;\n",
       "    }\n",
       "\n",
       "    .dataframe tbody tr th {\n",
       "        vertical-align: top;\n",
       "    }\n",
       "\n",
       "    .dataframe thead th {\n",
       "        text-align: right;\n",
       "    }\n",
       "</style>\n",
       "<table border=\"1\" class=\"dataframe\">\n",
       "  <thead>\n",
       "    <tr style=\"text-align: right;\">\n",
       "      <th></th>\n",
       "      <th>employee id</th>\n",
       "      <th>name</th>\n",
       "      <th>lastname</th>\n",
       "      <th>phone</th>\n",
       "      <th>state</th>\n",
       "    </tr>\n",
       "  </thead>\n",
       "  <tbody>\n",
       "    <tr>\n",
       "      <th>0</th>\n",
       "      <td>98793</td>\n",
       "      <td>Roosevelt</td>\n",
       "      <td>Tromp</td>\n",
       "      <td>20841109</td>\n",
       "      <td>Florida</td>\n",
       "    </tr>\n",
       "    <tr>\n",
       "      <th>1</th>\n",
       "      <td>51424</td>\n",
       "      <td>Christa</td>\n",
       "      <td>D'Amore</td>\n",
       "      <td>72443763</td>\n",
       "      <td>Massachusetts</td>\n",
       "    </tr>\n",
       "    <tr>\n",
       "      <th>2</th>\n",
       "      <td>38581</td>\n",
       "      <td>Marrion</td>\n",
       "      <td>Halvorson</td>\n",
       "      <td>87250175</td>\n",
       "      <td>New Hampshire</td>\n",
       "    </tr>\n",
       "    <tr>\n",
       "      <th>3</th>\n",
       "      <td>41652</td>\n",
       "      <td>Donato</td>\n",
       "      <td>Berge</td>\n",
       "      <td>93559715</td>\n",
       "      <td>Georgia</td>\n",
       "    </tr>\n",
       "    <tr>\n",
       "      <th>4</th>\n",
       "      <td>19642</td>\n",
       "      <td>Vernie</td>\n",
       "      <td>Torp</td>\n",
       "      <td>43544819</td>\n",
       "      <td>Maryland</td>\n",
       "    </tr>\n",
       "  </tbody>\n",
       "</table>\n",
       "</div>"
      ],
      "text/plain": [
       "   employee id       name   lastname     phone          state\n",
       "0        98793  Roosevelt      Tromp  20841109        Florida\n",
       "1        51424    Christa    D'Amore  72443763  Massachusetts\n",
       "2        38581    Marrion  Halvorson  87250175  New Hampshire\n",
       "3        41652     Donato      Berge  93559715        Georgia\n",
       "4        19642     Vernie       Torp  43544819       Maryland"
      ]
     },
     "execution_count": 12,
     "metadata": {},
     "output_type": "execute_result"
    }
   ],
   "source": [
    "## Employee Dataframe\n",
    "\n",
    "df_emp = pd.DataFrame({'employee id':empid, 'name':fstnames, 'lastname':lstnames, 'phone':phone, 'state':States})\n",
    "df_emp.head()"
   ]
  },
  {
   "cell_type": "code",
   "execution_count": 13,
   "metadata": {},
   "outputs": [
    {
     "name": "stdout",
     "output_type": "stream",
     "text": [
      "10000\n"
     ]
    },
    {
     "data": {
      "text/plain": [
       "employee id    0\n",
       "name           0\n",
       "lastname       0\n",
       "phone          0\n",
       "state          0\n",
       "dtype: int64"
      ]
     },
     "execution_count": 13,
     "metadata": {},
     "output_type": "execute_result"
    }
   ],
   "source": [
    "print(len(df_emp))\n",
    "df_emp.isnull().sum()"
   ]
  },
  {
   "cell_type": "markdown",
   "metadata": {},
   "source": [
    "### Salary Dataset "
   ]
  },
  {
   "cell_type": "code",
   "execution_count": 14,
   "metadata": {},
   "outputs": [
    {
     "name": "stdout",
     "output_type": "stream",
     "text": [
      "10000\n"
     ]
    },
    {
     "data": {
      "text/plain": [
       "[7, 4, 7, 1, 3]"
      ]
     },
     "execution_count": 14,
     "metadata": {},
     "output_type": "execute_result"
    }
   ],
   "source": [
    "## department ID\n",
    "\n",
    "dpt_id = [random.randint(1,7) for e in range(10000)]\n",
    "\n",
    "print(len(dpt_id))\n",
    "dpt_id[:5]"
   ]
  },
  {
   "cell_type": "code",
   "execution_count": 15,
   "metadata": {},
   "outputs": [
    {
     "name": "stdout",
     "output_type": "stream",
     "text": [
      "10000\n"
     ]
    },
    {
     "data": {
      "text/plain": [
       "[105355, 209417, 98478, 170477, 86713]"
      ]
     },
     "execution_count": 15,
     "metadata": {},
     "output_type": "execute_result"
    }
   ],
   "source": [
    "## salary anually \n",
    "\n",
    "salary_list = [random.randint(50000,214000) for e in range(10000)]\n",
    "\n",
    "print(len(salary_list))\n",
    "salary_list[:5]"
   ]
  },
  {
   "cell_type": "code",
   "execution_count": 26,
   "metadata": {},
   "outputs": [
    {
     "data": {
      "text/html": [
       "<div>\n",
       "<style scoped>\n",
       "    .dataframe tbody tr th:only-of-type {\n",
       "        vertical-align: middle;\n",
       "    }\n",
       "\n",
       "    .dataframe tbody tr th {\n",
       "        vertical-align: top;\n",
       "    }\n",
       "\n",
       "    .dataframe thead th {\n",
       "        text-align: right;\n",
       "    }\n",
       "</style>\n",
       "<table border=\"1\" class=\"dataframe\">\n",
       "  <thead>\n",
       "    <tr style=\"text-align: right;\">\n",
       "      <th></th>\n",
       "      <th>employee id</th>\n",
       "      <th>DEPARTMENT ID</th>\n",
       "      <th>yearly salary</th>\n",
       "    </tr>\n",
       "  </thead>\n",
       "  <tbody>\n",
       "    <tr>\n",
       "      <th>0</th>\n",
       "      <td>98793</td>\n",
       "      <td>7</td>\n",
       "      <td>105355</td>\n",
       "    </tr>\n",
       "    <tr>\n",
       "      <th>1</th>\n",
       "      <td>51424</td>\n",
       "      <td>4</td>\n",
       "      <td>209417</td>\n",
       "    </tr>\n",
       "    <tr>\n",
       "      <th>2</th>\n",
       "      <td>38581</td>\n",
       "      <td>7</td>\n",
       "      <td>98478</td>\n",
       "    </tr>\n",
       "    <tr>\n",
       "      <th>3</th>\n",
       "      <td>41652</td>\n",
       "      <td>1</td>\n",
       "      <td>170477</td>\n",
       "    </tr>\n",
       "    <tr>\n",
       "      <th>4</th>\n",
       "      <td>19642</td>\n",
       "      <td>3</td>\n",
       "      <td>86713</td>\n",
       "    </tr>\n",
       "  </tbody>\n",
       "</table>\n",
       "</div>"
      ],
      "text/plain": [
       "   employee id  DEPARTMENT ID  yearly salary\n",
       "0        98793              7         105355\n",
       "1        51424              4         209417\n",
       "2        38581              7          98478\n",
       "3        41652              1         170477\n",
       "4        19642              3          86713"
      ]
     },
     "execution_count": 26,
     "metadata": {},
     "output_type": "execute_result"
    }
   ],
   "source": [
    "df_salary = pd.DataFrame({'employee id':empid, 'DEPARTMENT ID':dpt_id, 'yearly salary':salary_list})\n",
    "df_salary.head()"
   ]
  },
  {
   "cell_type": "code",
   "execution_count": 27,
   "metadata": {},
   "outputs": [
    {
     "name": "stdout",
     "output_type": "stream",
     "text": [
      "10000\n"
     ]
    },
    {
     "data": {
      "text/plain": [
       "employee id      0\n",
       "DEPARTMENT ID    0\n",
       "yearly salary    0\n",
       "dtype: int64"
      ]
     },
     "execution_count": 27,
     "metadata": {},
     "output_type": "execute_result"
    }
   ],
   "source": [
    "print(len(df_salary))\n",
    "df_salary.isnull().sum()"
   ]
  },
  {
   "cell_type": "code",
   "execution_count": 29,
   "metadata": {},
   "outputs": [
    {
     "data": {
      "text/plain": [
       "array([7, 4, 1, 3, 5, 6, 2], dtype=int64)"
      ]
     },
     "execution_count": 29,
     "metadata": {},
     "output_type": "execute_result"
    }
   ],
   "source": [
    "df_salary['DEPARTMENT ID'].unique()"
   ]
  },
  {
   "cell_type": "markdown",
   "metadata": {},
   "source": [
    "### Department Dataset "
   ]
  },
  {
   "cell_type": "code",
   "execution_count": 30,
   "metadata": {},
   "outputs": [
    {
     "data": {
      "text/html": [
       "<div>\n",
       "<style scoped>\n",
       "    .dataframe tbody tr th:only-of-type {\n",
       "        vertical-align: middle;\n",
       "    }\n",
       "\n",
       "    .dataframe tbody tr th {\n",
       "        vertical-align: top;\n",
       "    }\n",
       "\n",
       "    .dataframe thead th {\n",
       "        text-align: right;\n",
       "    }\n",
       "</style>\n",
       "<table border=\"1\" class=\"dataframe\">\n",
       "  <thead>\n",
       "    <tr style=\"text-align: right;\">\n",
       "      <th></th>\n",
       "      <th>DEPARTMENT ID</th>\n",
       "    </tr>\n",
       "  </thead>\n",
       "  <tbody>\n",
       "    <tr>\n",
       "      <th>0</th>\n",
       "      <td>1</td>\n",
       "    </tr>\n",
       "    <tr>\n",
       "      <th>1</th>\n",
       "      <td>2</td>\n",
       "    </tr>\n",
       "    <tr>\n",
       "      <th>2</th>\n",
       "      <td>3</td>\n",
       "    </tr>\n",
       "    <tr>\n",
       "      <th>3</th>\n",
       "      <td>4</td>\n",
       "    </tr>\n",
       "    <tr>\n",
       "      <th>4</th>\n",
       "      <td>5</td>\n",
       "    </tr>\n",
       "    <tr>\n",
       "      <th>5</th>\n",
       "      <td>6</td>\n",
       "    </tr>\n",
       "    <tr>\n",
       "      <th>6</th>\n",
       "      <td>7</td>\n",
       "    </tr>\n",
       "  </tbody>\n",
       "</table>\n",
       "</div>"
      ],
      "text/plain": [
       "   DEPARTMENT ID\n",
       "0              1\n",
       "1              2\n",
       "2              3\n",
       "3              4\n",
       "4              5\n",
       "5              6\n",
       "6              7"
      ]
     },
     "execution_count": 30,
     "metadata": {},
     "output_type": "execute_result"
    }
   ],
   "source": [
    "df_dpt = pd.DataFrame({'DEPARTMENT ID':list(range(1,8))})\n",
    "df_dpt"
   ]
  },
  {
   "cell_type": "code",
   "execution_count": 31,
   "metadata": {},
   "outputs": [],
   "source": [
    "dept_dict = {1:'HR', 2:'IT', 3:'Finance', 4:'Procurement', 4:'Sales', 5:'Marketing', 6:'Admin', 7:'Services'}\n",
    "\n",
    "df_dpt['DEPARTMENT NAME'] = df_dpt['DEPARTMENT ID'].map(dept_dict)"
   ]
  },
  {
   "cell_type": "code",
   "execution_count": 32,
   "metadata": {},
   "outputs": [
    {
     "data": {
      "text/html": [
       "<div>\n",
       "<style scoped>\n",
       "    .dataframe tbody tr th:only-of-type {\n",
       "        vertical-align: middle;\n",
       "    }\n",
       "\n",
       "    .dataframe tbody tr th {\n",
       "        vertical-align: top;\n",
       "    }\n",
       "\n",
       "    .dataframe thead th {\n",
       "        text-align: right;\n",
       "    }\n",
       "</style>\n",
       "<table border=\"1\" class=\"dataframe\">\n",
       "  <thead>\n",
       "    <tr style=\"text-align: right;\">\n",
       "      <th></th>\n",
       "      <th>DEPARTMENT ID</th>\n",
       "      <th>DEPARTMENT NAME</th>\n",
       "    </tr>\n",
       "  </thead>\n",
       "  <tbody>\n",
       "    <tr>\n",
       "      <th>0</th>\n",
       "      <td>1</td>\n",
       "      <td>HR</td>\n",
       "    </tr>\n",
       "    <tr>\n",
       "      <th>1</th>\n",
       "      <td>2</td>\n",
       "      <td>IT</td>\n",
       "    </tr>\n",
       "    <tr>\n",
       "      <th>2</th>\n",
       "      <td>3</td>\n",
       "      <td>Finance</td>\n",
       "    </tr>\n",
       "    <tr>\n",
       "      <th>3</th>\n",
       "      <td>4</td>\n",
       "      <td>Sales</td>\n",
       "    </tr>\n",
       "    <tr>\n",
       "      <th>4</th>\n",
       "      <td>5</td>\n",
       "      <td>Marketing</td>\n",
       "    </tr>\n",
       "    <tr>\n",
       "      <th>5</th>\n",
       "      <td>6</td>\n",
       "      <td>Admin</td>\n",
       "    </tr>\n",
       "    <tr>\n",
       "      <th>6</th>\n",
       "      <td>7</td>\n",
       "      <td>Services</td>\n",
       "    </tr>\n",
       "  </tbody>\n",
       "</table>\n",
       "</div>"
      ],
      "text/plain": [
       "   DEPARTMENT ID DEPARTMENT NAME\n",
       "0              1              HR\n",
       "1              2              IT\n",
       "2              3         Finance\n",
       "3              4           Sales\n",
       "4              5       Marketing\n",
       "5              6           Admin\n",
       "6              7        Services"
      ]
     },
     "execution_count": 32,
     "metadata": {},
     "output_type": "execute_result"
    }
   ],
   "source": [
    "df_dpt"
   ]
  },
  {
   "cell_type": "markdown",
   "metadata": {},
   "source": [
    "### Questions "
   ]
  },
  {
   "cell_type": "markdown",
   "metadata": {},
   "source": [
    "#### 1. Visualize the average salary of each department "
   ]
  },
  {
   "cell_type": "code",
   "execution_count": 33,
   "metadata": {},
   "outputs": [
    {
     "data": {
      "text/plain": [
       "Index(['employee id', 'DEPARTMENT ID', 'yearly salary'], dtype='object')"
      ]
     },
     "execution_count": 33,
     "metadata": {},
     "output_type": "execute_result"
    }
   ],
   "source": [
    "df_salary.columns"
   ]
  },
  {
   "cell_type": "code",
   "execution_count": 34,
   "metadata": {},
   "outputs": [
    {
     "data": {
      "text/html": [
       "<div>\n",
       "<style scoped>\n",
       "    .dataframe tbody tr th:only-of-type {\n",
       "        vertical-align: middle;\n",
       "    }\n",
       "\n",
       "    .dataframe tbody tr th {\n",
       "        vertical-align: top;\n",
       "    }\n",
       "\n",
       "    .dataframe thead th {\n",
       "        text-align: right;\n",
       "    }\n",
       "</style>\n",
       "<table border=\"1\" class=\"dataframe\">\n",
       "  <thead>\n",
       "    <tr style=\"text-align: right;\">\n",
       "      <th></th>\n",
       "      <th>employee id</th>\n",
       "      <th>DEPARTMENT ID</th>\n",
       "      <th>yearly salary</th>\n",
       "      <th>DEPARTMENT NAME</th>\n",
       "    </tr>\n",
       "  </thead>\n",
       "  <tbody>\n",
       "    <tr>\n",
       "      <th>0</th>\n",
       "      <td>98793</td>\n",
       "      <td>7</td>\n",
       "      <td>105355</td>\n",
       "      <td>Services</td>\n",
       "    </tr>\n",
       "    <tr>\n",
       "      <th>1</th>\n",
       "      <td>51424</td>\n",
       "      <td>4</td>\n",
       "      <td>209417</td>\n",
       "      <td>Sales</td>\n",
       "    </tr>\n",
       "    <tr>\n",
       "      <th>2</th>\n",
       "      <td>38581</td>\n",
       "      <td>7</td>\n",
       "      <td>98478</td>\n",
       "      <td>Services</td>\n",
       "    </tr>\n",
       "    <tr>\n",
       "      <th>3</th>\n",
       "      <td>41652</td>\n",
       "      <td>1</td>\n",
       "      <td>170477</td>\n",
       "      <td>HR</td>\n",
       "    </tr>\n",
       "    <tr>\n",
       "      <th>4</th>\n",
       "      <td>19642</td>\n",
       "      <td>3</td>\n",
       "      <td>86713</td>\n",
       "      <td>Finance</td>\n",
       "    </tr>\n",
       "  </tbody>\n",
       "</table>\n",
       "</div>"
      ],
      "text/plain": [
       "   employee id  DEPARTMENT ID  yearly salary DEPARTMENT NAME\n",
       "0        98793              7         105355        Services\n",
       "1        51424              4         209417           Sales\n",
       "2        38581              7          98478        Services\n",
       "3        41652              1         170477              HR\n",
       "4        19642              3          86713         Finance"
      ]
     },
     "execution_count": 34,
     "metadata": {},
     "output_type": "execute_result"
    }
   ],
   "source": [
    "df_q1 = pd.merge(df_salary, df_dpt, how='left', on='DEPARTMENT ID')\n",
    "df_q1.head()"
   ]
  },
  {
   "cell_type": "code",
   "execution_count": 56,
   "metadata": {},
   "outputs": [
    {
     "data": {
      "image/png": "[encoded data removed]",
      "text/plain": [
       "<Figure size 432x432 with 1 Axes>"
      ]
     },
     "metadata": {
      "needs_background": "light"
     },
     "output_type": "display_data"
    }
   ],
   "source": [
    "plt.figure(figsize=(6,6))\n",
    "\n",
    "sns.barplot(data=df_q1, x='DEPARTMENT NAME', y='yearly salary')\n",
    "plt.title('Average Salary Over Departments')\n",
    "plt.show()"
   ]
  },
  {
   "cell_type": "markdown",
   "metadata": {},
   "source": [
    "We can see almost similar salaries for all departments, with department admin having slightly higher salary\n",
    "compared to other departments and department Sales having slightly lower salary compared to other departments"
   ]
  },
  {
   "cell_type": "markdown",
   "metadata": {},
   "source": [
    "#### 2. Visualize the total number of employees living in each state for each department "
   ]
  },
  {
   "cell_type": "code",
   "execution_count": 37,
   "metadata": {},
   "outputs": [
    {
     "data": {
      "text/plain": [
       "Index(['employee id', 'name', 'lastname', 'phone', 'state'], dtype='object')"
      ]
     },
     "execution_count": 37,
     "metadata": {},
     "output_type": "execute_result"
    }
   ],
   "source": [
    "df_emp.columns"
   ]
  },
  {
   "cell_type": "code",
   "execution_count": 40,
   "metadata": {},
   "outputs": [
    {
     "data": {
      "text/html": [
       "<div>\n",
       "<style scoped>\n",
       "    .dataframe tbody tr th:only-of-type {\n",
       "        vertical-align: middle;\n",
       "    }\n",
       "\n",
       "    .dataframe tbody tr th {\n",
       "        vertical-align: top;\n",
       "    }\n",
       "\n",
       "    .dataframe thead th {\n",
       "        text-align: right;\n",
       "    }\n",
       "</style>\n",
       "<table border=\"1\" class=\"dataframe\">\n",
       "  <thead>\n",
       "    <tr style=\"text-align: right;\">\n",
       "      <th></th>\n",
       "      <th>employee id</th>\n",
       "      <th>DEPARTMENT ID</th>\n",
       "      <th>yearly salary</th>\n",
       "      <th>DEPARTMENT NAME</th>\n",
       "    </tr>\n",
       "  </thead>\n",
       "  <tbody>\n",
       "    <tr>\n",
       "      <th>0</th>\n",
       "      <td>98793</td>\n",
       "      <td>7</td>\n",
       "      <td>105355</td>\n",
       "      <td>Services</td>\n",
       "    </tr>\n",
       "    <tr>\n",
       "      <th>1</th>\n",
       "      <td>51424</td>\n",
       "      <td>4</td>\n",
       "      <td>209417</td>\n",
       "      <td>Sales</td>\n",
       "    </tr>\n",
       "    <tr>\n",
       "      <th>2</th>\n",
       "      <td>38581</td>\n",
       "      <td>7</td>\n",
       "      <td>98478</td>\n",
       "      <td>Services</td>\n",
       "    </tr>\n",
       "    <tr>\n",
       "      <th>3</th>\n",
       "      <td>41652</td>\n",
       "      <td>1</td>\n",
       "      <td>170477</td>\n",
       "      <td>HR</td>\n",
       "    </tr>\n",
       "    <tr>\n",
       "      <th>4</th>\n",
       "      <td>19642</td>\n",
       "      <td>3</td>\n",
       "      <td>86713</td>\n",
       "      <td>Finance</td>\n",
       "    </tr>\n",
       "  </tbody>\n",
       "</table>\n",
       "</div>"
      ],
      "text/plain": [
       "   employee id  DEPARTMENT ID  yearly salary DEPARTMENT NAME\n",
       "0        98793              7         105355        Services\n",
       "1        51424              4         209417           Sales\n",
       "2        38581              7          98478        Services\n",
       "3        41652              1         170477              HR\n",
       "4        19642              3          86713         Finance"
      ]
     },
     "execution_count": 40,
     "metadata": {},
     "output_type": "execute_result"
    }
   ],
   "source": [
    "df_q21 = pd.merge(df_salary, df_dpt, how='left', on='DEPARTMENT ID')\n",
    "df_q21.head()"
   ]
  },
  {
   "cell_type": "code",
   "execution_count": 41,
   "metadata": {},
   "outputs": [
    {
     "data": {
      "text/html": [
       "<div>\n",
       "<style scoped>\n",
       "    .dataframe tbody tr th:only-of-type {\n",
       "        vertical-align: middle;\n",
       "    }\n",
       "\n",
       "    .dataframe tbody tr th {\n",
       "        vertical-align: top;\n",
       "    }\n",
       "\n",
       "    .dataframe thead th {\n",
       "        text-align: right;\n",
       "    }\n",
       "</style>\n",
       "<table border=\"1\" class=\"dataframe\">\n",
       "  <thead>\n",
       "    <tr style=\"text-align: right;\">\n",
       "      <th></th>\n",
       "      <th>employee id</th>\n",
       "      <th>DEPARTMENT ID</th>\n",
       "      <th>yearly salary</th>\n",
       "      <th>DEPARTMENT NAME</th>\n",
       "      <th>state</th>\n",
       "    </tr>\n",
       "  </thead>\n",
       "  <tbody>\n",
       "    <tr>\n",
       "      <th>0</th>\n",
       "      <td>98793</td>\n",
       "      <td>7</td>\n",
       "      <td>105355</td>\n",
       "      <td>Services</td>\n",
       "      <td>Florida</td>\n",
       "    </tr>\n",
       "    <tr>\n",
       "      <th>1</th>\n",
       "      <td>51424</td>\n",
       "      <td>4</td>\n",
       "      <td>209417</td>\n",
       "      <td>Sales</td>\n",
       "      <td>Massachusetts</td>\n",
       "    </tr>\n",
       "    <tr>\n",
       "      <th>2</th>\n",
       "      <td>38581</td>\n",
       "      <td>7</td>\n",
       "      <td>98478</td>\n",
       "      <td>Services</td>\n",
       "      <td>New Hampshire</td>\n",
       "    </tr>\n",
       "    <tr>\n",
       "      <th>3</th>\n",
       "      <td>41652</td>\n",
       "      <td>1</td>\n",
       "      <td>170477</td>\n",
       "      <td>HR</td>\n",
       "      <td>Georgia</td>\n",
       "    </tr>\n",
       "    <tr>\n",
       "      <th>4</th>\n",
       "      <td>19642</td>\n",
       "      <td>3</td>\n",
       "      <td>86713</td>\n",
       "      <td>Finance</td>\n",
       "      <td>Maryland</td>\n",
       "    </tr>\n",
       "  </tbody>\n",
       "</table>\n",
       "</div>"
      ],
      "text/plain": [
       "   employee id  DEPARTMENT ID  yearly salary DEPARTMENT NAME          state\n",
       "0        98793              7         105355        Services        Florida\n",
       "1        51424              4         209417           Sales  Massachusetts\n",
       "2        38581              7          98478        Services  New Hampshire\n",
       "3        41652              1         170477              HR        Georgia\n",
       "4        19642              3          86713         Finance       Maryland"
      ]
     },
     "execution_count": 41,
     "metadata": {},
     "output_type": "execute_result"
    }
   ],
   "source": [
    "df_q2 = pd.merge(df_q21, df_emp[['employee id', 'state']], how='left', on='employee id')\n",
    "df_q2.head()"
   ]
  },
  {
   "cell_type": "code",
   "execution_count": 42,
   "metadata": {},
   "outputs": [
    {
     "data": {
      "text/plain": [
       "array(['Florida', 'Massachusetts', 'New Hampshire', 'Georgia', 'Maryland',\n",
       "       'New York', 'Delaware', 'Connecticut', 'Maine', 'North Carolina',\n",
       "       'Virginia', 'New Jersy', 'Rhode Island', 'Pennsylvania',\n",
       "       'South Carolina'], dtype=object)"
      ]
     },
     "execution_count": 42,
     "metadata": {},
     "output_type": "execute_result"
    }
   ],
   "source": [
    "df_q2['state'].unique()"
   ]
  },
  {
   "cell_type": "code",
   "execution_count": 44,
   "metadata": {},
   "outputs": [
    {
     "data": {
      "text/html": [
       "<div>\n",
       "<style scoped>\n",
       "    .dataframe tbody tr th:only-of-type {\n",
       "        vertical-align: middle;\n",
       "    }\n",
       "\n",
       "    .dataframe tbody tr th {\n",
       "        vertical-align: top;\n",
       "    }\n",
       "\n",
       "    .dataframe thead th {\n",
       "        text-align: right;\n",
       "    }\n",
       "</style>\n",
       "<table border=\"1\" class=\"dataframe\">\n",
       "  <thead>\n",
       "    <tr style=\"text-align: right;\">\n",
       "      <th></th>\n",
       "      <th></th>\n",
       "      <th>employee id</th>\n",
       "      <th>yearly salary</th>\n",
       "      <th>DEPARTMENT NAME</th>\n",
       "    </tr>\n",
       "    <tr>\n",
       "      <th>state</th>\n",
       "      <th>DEPARTMENT ID</th>\n",
       "      <th></th>\n",
       "      <th></th>\n",
       "      <th></th>\n",
       "    </tr>\n",
       "  </thead>\n",
       "  <tbody>\n",
       "    <tr>\n",
       "      <th rowspan=\"7\" valign=\"top\">Delaware</th>\n",
       "      <th>1</th>\n",
       "      <td>99</td>\n",
       "      <td>99</td>\n",
       "      <td>99</td>\n",
       "    </tr>\n",
       "    <tr>\n",
       "      <th>2</th>\n",
       "      <td>91</td>\n",
       "      <td>91</td>\n",
       "      <td>91</td>\n",
       "    </tr>\n",
       "    <tr>\n",
       "      <th>3</th>\n",
       "      <td>92</td>\n",
       "      <td>92</td>\n",
       "      <td>92</td>\n",
       "    </tr>\n",
       "    <tr>\n",
       "      <th>4</th>\n",
       "      <td>111</td>\n",
       "      <td>111</td>\n",
       "      <td>111</td>\n",
       "    </tr>\n",
       "    <tr>\n",
       "      <th>5</th>\n",
       "      <td>92</td>\n",
       "      <td>92</td>\n",
       "      <td>92</td>\n",
       "    </tr>\n",
       "    <tr>\n",
       "      <th>6</th>\n",
       "      <td>97</td>\n",
       "      <td>97</td>\n",
       "      <td>97</td>\n",
       "    </tr>\n",
       "    <tr>\n",
       "      <th>7</th>\n",
       "      <td>99</td>\n",
       "      <td>99</td>\n",
       "      <td>99</td>\n",
       "    </tr>\n",
       "    <tr>\n",
       "      <th rowspan=\"7\" valign=\"top\">Maine</th>\n",
       "      <th>1</th>\n",
       "      <td>95</td>\n",
       "      <td>95</td>\n",
       "      <td>95</td>\n",
       "    </tr>\n",
       "    <tr>\n",
       "      <th>2</th>\n",
       "      <td>91</td>\n",
       "      <td>91</td>\n",
       "      <td>91</td>\n",
       "    </tr>\n",
       "    <tr>\n",
       "      <th>3</th>\n",
       "      <td>103</td>\n",
       "      <td>103</td>\n",
       "      <td>103</td>\n",
       "    </tr>\n",
       "    <tr>\n",
       "      <th>4</th>\n",
       "      <td>83</td>\n",
       "      <td>83</td>\n",
       "      <td>83</td>\n",
       "    </tr>\n",
       "    <tr>\n",
       "      <th>5</th>\n",
       "      <td>91</td>\n",
       "      <td>91</td>\n",
       "      <td>91</td>\n",
       "    </tr>\n",
       "    <tr>\n",
       "      <th>6</th>\n",
       "      <td>89</td>\n",
       "      <td>89</td>\n",
       "      <td>89</td>\n",
       "    </tr>\n",
       "    <tr>\n",
       "      <th>7</th>\n",
       "      <td>89</td>\n",
       "      <td>89</td>\n",
       "      <td>89</td>\n",
       "    </tr>\n",
       "  </tbody>\n",
       "</table>\n",
       "</div>"
      ],
      "text/plain": [
       "                        employee id  yearly salary  DEPARTMENT NAME\n",
       "state    DEPARTMENT ID                                             \n",
       "Delaware 1                       99             99               99\n",
       "         2                       91             91               91\n",
       "         3                       92             92               92\n",
       "         4                      111            111              111\n",
       "         5                       92             92               92\n",
       "         6                       97             97               97\n",
       "         7                       99             99               99\n",
       "Maine    1                       95             95               95\n",
       "         2                       91             91               91\n",
       "         3                      103            103              103\n",
       "         4                       83             83               83\n",
       "         5                       91             91               91\n",
       "         6                       89             89               89\n",
       "         7                       89             89               89"
      ]
     },
     "execution_count": 44,
     "metadata": {},
     "output_type": "execute_result"
    }
   ],
   "source": [
    "data=df_q2[(df_q2['state'] == 'Rhode Island') | (df_q2['state'] == 'New Hampshire') | \n",
    "                       (df_q2['state'] == 'Maine') |(df_q2['state'] == 'Delaware') | \n",
    "                       (df_q2['state'] == 'Massachusetts')].groupby(['state','DEPARTMENT ID']).count()\n",
    "data.loc['Delaware':'Maine']"
   ]
  },
  {
   "cell_type": "code",
   "execution_count": 57,
   "metadata": {},
   "outputs": [
    {
     "data": {
      "text/plain": [
       "<Figure size 504x648 with 0 Axes>"
      ]
     },
     "metadata": {},
     "output_type": "display_data"
    },
    {
     "data": {
      "image/png": "[encoded data removed]",
      "text/plain": [
       "<Figure size 467.125x360 with 1 Axes>"
      ]
     },
     "metadata": {
      "needs_background": "light"
     },
     "output_type": "display_data"
    }
   ],
   "source": [
    "plt.figure(figsize=(7,9))\n",
    "\n",
    "sns.catplot(y='state', hue='DEPARTMENT NAME', kind='count', edgecolor='0.4',\n",
    "            palette='pastel',\n",
    "            data=df_q2[(df_q2['state'] == 'Rhode Island') | (df_q2['state'] == 'New Hampshire') | \n",
    "                       (df_q2['state'] == 'Maine') |(df_q2['state'] == 'Delaware') | \n",
    "                       (df_q2['state'] == 'Massachusetts') | (df_q2['state'] == 'North Carolina') | \n",
    "                       (df_q2['state'] == 'New Jersey')])\n",
    "plt.title('Total number of employees Living in each state for each department')\n",
    "\n",
    "plt.show()"
   ]
  },
  {
   "cell_type": "code",
   "execution_count": 58,
   "metadata": {},
   "outputs": [
    {
     "data": {
      "text/plain": [
       "<Figure size 504x648 with 0 Axes>"
      ]
     },
     "metadata": {},
     "output_type": "display_data"
    },
    {
     "data": {
      "image/png": "[encoded data removed]",
      "text/plain": [
       "<Figure size 467.125x360 with 1 Axes>"
      ]
     },
     "metadata": {
      "needs_background": "light"
     },
     "output_type": "display_data"
    }
   ],
   "source": [
    "plt.figure(figsize=(7,9))\n",
    "\n",
    "sns.catplot(y='state', hue='DEPARTMENT NAME', kind='count', edgecolor='0.4',\n",
    "            palette='pastel',\n",
    "            data=df_q2[(df_q2['state'] == 'Florida') |\n",
    "                (df_q2['state'] == 'Virginia') | (df_q2['state'] == 'Connecticut') | \n",
    "                       (df_q2['state'] == 'New York') | (df_q2['state'] == 'Maryland') | \n",
    "                       (df_q2['state'] == 'South Carolina') |\n",
    "      (df_q2['state'] == 'Georgia')])\n",
    "plt.title('Total number of employees Living in each state for each department')\n",
    "\n",
    "plt.show()"
   ]
  },
  {
   "cell_type": "markdown",
   "metadata": {},
   "source": [
    "#### 3. Visualize salary distribution of different states "
   ]
  },
  {
   "cell_type": "code",
   "execution_count": 47,
   "metadata": {},
   "outputs": [
    {
     "data": {
      "text/html": [
       "<div>\n",
       "<style scoped>\n",
       "    .dataframe tbody tr th:only-of-type {\n",
       "        vertical-align: middle;\n",
       "    }\n",
       "\n",
       "    .dataframe tbody tr th {\n",
       "        vertical-align: top;\n",
       "    }\n",
       "\n",
       "    .dataframe thead th {\n",
       "        text-align: right;\n",
       "    }\n",
       "</style>\n",
       "<table border=\"1\" class=\"dataframe\">\n",
       "  <thead>\n",
       "    <tr style=\"text-align: right;\">\n",
       "      <th></th>\n",
       "      <th>employee id</th>\n",
       "      <th>name</th>\n",
       "      <th>lastname</th>\n",
       "      <th>phone</th>\n",
       "      <th>state</th>\n",
       "      <th>DEPARTMENT ID</th>\n",
       "      <th>yearly salary</th>\n",
       "    </tr>\n",
       "  </thead>\n",
       "  <tbody>\n",
       "    <tr>\n",
       "      <th>0</th>\n",
       "      <td>98793</td>\n",
       "      <td>Roosevelt</td>\n",
       "      <td>Tromp</td>\n",
       "      <td>20841109</td>\n",
       "      <td>Florida</td>\n",
       "      <td>7</td>\n",
       "      <td>105355</td>\n",
       "    </tr>\n",
       "    <tr>\n",
       "      <th>1</th>\n",
       "      <td>51424</td>\n",
       "      <td>Christa</td>\n",
       "      <td>D'Amore</td>\n",
       "      <td>72443763</td>\n",
       "      <td>Massachusetts</td>\n",
       "      <td>4</td>\n",
       "      <td>209417</td>\n",
       "    </tr>\n",
       "    <tr>\n",
       "      <th>2</th>\n",
       "      <td>38581</td>\n",
       "      <td>Marrion</td>\n",
       "      <td>Halvorson</td>\n",
       "      <td>87250175</td>\n",
       "      <td>New Hampshire</td>\n",
       "      <td>7</td>\n",
       "      <td>98478</td>\n",
       "    </tr>\n",
       "    <tr>\n",
       "      <th>3</th>\n",
       "      <td>41652</td>\n",
       "      <td>Donato</td>\n",
       "      <td>Berge</td>\n",
       "      <td>93559715</td>\n",
       "      <td>Georgia</td>\n",
       "      <td>1</td>\n",
       "      <td>170477</td>\n",
       "    </tr>\n",
       "    <tr>\n",
       "      <th>4</th>\n",
       "      <td>19642</td>\n",
       "      <td>Vernie</td>\n",
       "      <td>Torp</td>\n",
       "      <td>43544819</td>\n",
       "      <td>Maryland</td>\n",
       "      <td>3</td>\n",
       "      <td>86713</td>\n",
       "    </tr>\n",
       "  </tbody>\n",
       "</table>\n",
       "</div>"
      ],
      "text/plain": [
       "   employee id       name   lastname     phone          state  DEPARTMENT ID  \\\n",
       "0        98793  Roosevelt      Tromp  20841109        Florida              7   \n",
       "1        51424    Christa    D'Amore  72443763  Massachusetts              4   \n",
       "2        38581    Marrion  Halvorson  87250175  New Hampshire              7   \n",
       "3        41652     Donato      Berge  93559715        Georgia              1   \n",
       "4        19642     Vernie       Torp  43544819       Maryland              3   \n",
       "\n",
       "   yearly salary  \n",
       "0         105355  \n",
       "1         209417  \n",
       "2          98478  \n",
       "3         170477  \n",
       "4          86713  "
      ]
     },
     "execution_count": 47,
     "metadata": {},
     "output_type": "execute_result"
    }
   ],
   "source": [
    "df_q3 = pd.merge(df_emp, df_salary, how='left', on='employee id')\n",
    "df_q3.head()"
   ]
  },
  {
   "cell_type": "code",
   "execution_count": 59,
   "metadata": {},
   "outputs": [
    {
     "data": {
      "image/png": "[encoded data removed]",
      "text/plain": [
       "<Figure size 576x360 with 1 Axes>"
      ]
     },
     "metadata": {
      "needs_background": "light"
     },
     "output_type": "display_data"
    }
   ],
   "source": [
    "plt.figure(figsize=(8,5))\n",
    "\n",
    "sns.boxplot(x='state', y='yearly salary',data=df_q3)\n",
    "\n",
    "plt.title('Distribution of yearly salary across each state')\n",
    "plt.xticks(rotation=90)\n",
    "\n",
    "plt.show()"
   ]
  },
  {
   "cell_type": "markdown",
   "metadata": {},
   "source": [
    "#### 4. Visualize salary distribution of different departments"
   ]
  },
  {
   "cell_type": "code",
   "execution_count": 51,
   "metadata": {},
   "outputs": [
    {
     "data": {
      "text/html": [
       "<div>\n",
       "<style scoped>\n",
       "    .dataframe tbody tr th:only-of-type {\n",
       "        vertical-align: middle;\n",
       "    }\n",
       "\n",
       "    .dataframe tbody tr th {\n",
       "        vertical-align: top;\n",
       "    }\n",
       "\n",
       "    .dataframe thead th {\n",
       "        text-align: right;\n",
       "    }\n",
       "</style>\n",
       "<table border=\"1\" class=\"dataframe\">\n",
       "  <thead>\n",
       "    <tr style=\"text-align: right;\">\n",
       "      <th></th>\n",
       "      <th>employee id</th>\n",
       "      <th>name</th>\n",
       "      <th>lastname</th>\n",
       "      <th>phone</th>\n",
       "      <th>state</th>\n",
       "      <th>DEPARTMENT ID</th>\n",
       "      <th>yearly salary</th>\n",
       "      <th>DEPARTMENT NAME</th>\n",
       "    </tr>\n",
       "  </thead>\n",
       "  <tbody>\n",
       "    <tr>\n",
       "      <th>0</th>\n",
       "      <td>98793</td>\n",
       "      <td>Roosevelt</td>\n",
       "      <td>Tromp</td>\n",
       "      <td>20841109</td>\n",
       "      <td>Florida</td>\n",
       "      <td>7</td>\n",
       "      <td>105355</td>\n",
       "      <td>Services</td>\n",
       "    </tr>\n",
       "    <tr>\n",
       "      <th>1</th>\n",
       "      <td>51424</td>\n",
       "      <td>Christa</td>\n",
       "      <td>D'Amore</td>\n",
       "      <td>72443763</td>\n",
       "      <td>Massachusetts</td>\n",
       "      <td>4</td>\n",
       "      <td>209417</td>\n",
       "      <td>Sales</td>\n",
       "    </tr>\n",
       "    <tr>\n",
       "      <th>2</th>\n",
       "      <td>38581</td>\n",
       "      <td>Marrion</td>\n",
       "      <td>Halvorson</td>\n",
       "      <td>87250175</td>\n",
       "      <td>New Hampshire</td>\n",
       "      <td>7</td>\n",
       "      <td>98478</td>\n",
       "      <td>Services</td>\n",
       "    </tr>\n",
       "    <tr>\n",
       "      <th>3</th>\n",
       "      <td>41652</td>\n",
       "      <td>Donato</td>\n",
       "      <td>Berge</td>\n",
       "      <td>93559715</td>\n",
       "      <td>Georgia</td>\n",
       "      <td>1</td>\n",
       "      <td>170477</td>\n",
       "      <td>HR</td>\n",
       "    </tr>\n",
       "    <tr>\n",
       "      <th>4</th>\n",
       "      <td>19642</td>\n",
       "      <td>Vernie</td>\n",
       "      <td>Torp</td>\n",
       "      <td>43544819</td>\n",
       "      <td>Maryland</td>\n",
       "      <td>3</td>\n",
       "      <td>86713</td>\n",
       "      <td>Finance</td>\n",
       "    </tr>\n",
       "  </tbody>\n",
       "</table>\n",
       "</div>"
      ],
      "text/plain": [
       "   employee id       name   lastname     phone          state  DEPARTMENT ID  \\\n",
       "0        98793  Roosevelt      Tromp  20841109        Florida              7   \n",
       "1        51424    Christa    D'Amore  72443763  Massachusetts              4   \n",
       "2        38581    Marrion  Halvorson  87250175  New Hampshire              7   \n",
       "3        41652     Donato      Berge  93559715        Georgia              1   \n",
       "4        19642     Vernie       Torp  43544819       Maryland              3   \n",
       "\n",
       "   yearly salary DEPARTMENT NAME  \n",
       "0         105355        Services  \n",
       "1         209417           Sales  \n",
       "2          98478        Services  \n",
       "3         170477              HR  \n",
       "4          86713         Finance  "
      ]
     },
     "execution_count": 51,
     "metadata": {},
     "output_type": "execute_result"
    }
   ],
   "source": [
    "df_q41 = pd.merge(df_emp, df_salary, how='left', on='employee id')\n",
    "\n",
    "df_q4 = pd.merge(df_q41, df_dpt, how='left', on='DEPARTMENT ID')\n",
    "df_q4.head()"
   ]
  },
  {
   "cell_type": "code",
   "execution_count": 60,
   "metadata": {},
   "outputs": [
    {
     "data": {
      "image/png": "[encoded data removed]",
      "text/plain": [
       "<Figure size 576x360 with 1 Axes>"
      ]
     },
     "metadata": {
      "needs_background": "light"
     },
     "output_type": "display_data"
    }
   ],
   "source": [
    "plt.figure(figsize=(8,5))\n",
    "\n",
    "sns.boxplot(x='DEPARTMENT NAME', y='yearly salary',data=df_q4)\n",
    "\n",
    "plt.title('Distribution of yearly salary across each department')\n",
    "plt.xticks(rotation=90)\n",
    "\n",
    "plt.show()"
   ]
  },
  {
   "cell_type": "markdown",
   "metadata": {},
   "source": [
    "### Salary distribution as Normal distribution"
   ]
  },
  {
   "cell_type": "code",
   "execution_count": 62,
   "metadata": {},
   "outputs": [
    {
     "data": {
      "text/plain": [
       "<matplotlib.axes._subplots.AxesSubplot at 0x12cc17389a0>"
      ]
     },
     "execution_count": 62,
     "metadata": {},
     "output_type": "execute_result"
    },
    {
     "data": {
      "image/png": "[encoded data removed]",
      "text/plain": [
       "<Figure size 432x288 with 1 Axes>"
      ]
     },
     "metadata": {
      "needs_background": "light"
     },
     "output_type": "display_data"
    }
   ],
   "source": [
    "sns.kdeplot(df_salary['yearly salary'])"
   ]
  },
  {
   "cell_type": "code",
   "execution_count": null,
   "metadata": {},
   "outputs": [],
   "source": []
  }
 ],
 "metadata": {
  "kernelspec": {
   "display_name": "Python 3",
   "language": "python",
   "name": "python3"
  },
  "language_info": {
   "codemirror_mode": {
    "name": "ipython",
    "version": 3
   },
   "file_extension": ".py",
   "mimetype": "text/x-python",
   "name": "python",
   "nbconvert_exporter": "python",
   "pygments_lexer": "ipython3",
   "version": "3.8.5"
  },
  "toc": {
   "base_numbering": 1,
   "nav_menu": {},
   "number_sections": true,
   "sideBar": true,
   "skip_h1_title": false,
   "title_cell": "Table of Contents",
   "title_sidebar": "Contents",
   "toc_cell": false,
   "toc_position": {},
   "toc_section_display": true,
   "toc_window_display": false
  },
  "varInspector": {
   "cols": {
    "lenName": 16,
    "lenType": 16,
    "lenVar": 40
   },
   "kernels_config": {
    "python": {
     "delete_cmd_postfix": "",
     "delete_cmd_prefix": "del ",
     "library": "var_list.py",
     "varRefreshCmd": "print(var_dic_list())"
    },
    "r": {
     "delete_cmd_postfix": ") ",
     "delete_cmd_prefix": "rm(",
     "library": "var_list.r",
     "varRefreshCmd": "cat(var_dic_list()) "
    }
   },
   "types_to_exclude": [
    "module",
    "function",
    "builtin_function_or_method",
    "instance",
    "_Feature"
   ],
   "window_display": false
  }
 },
 "nbformat": 4,
 "nbformat_minor": 2
}
